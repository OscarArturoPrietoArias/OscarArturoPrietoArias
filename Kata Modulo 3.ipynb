{
 "cells": [
  {
   "cell_type": "markdown",
   "metadata": {},
   "source": [
    "## Kata Modulo 3"
   ]
  },
  {
   "cell_type": "code",
   "execution_count": 2,
   "metadata": {},
   "outputs": [
    {
     "name": "stdout",
     "output_type": "stream",
     "text": [
      "Alerta, un asteroide prodia impactar el planeta\n"
     ]
    }
   ],
   "source": [
    "asteroide = 49\n",
    "if asteroide>25:\n",
    "    print('Alerta, un asteroide prodia impactar el planeta')\n",
    "else:\n",
    "    print('No hay advertencias de asteroide')\n",
    " \n",
    "   "
   ]
  },
  {
   "cell_type": "code",
   "execution_count": 3,
   "metadata": {},
   "outputs": [
    {
     "name": "stdout",
     "output_type": "stream",
     "text": [
      "No hay nada que mirar en el cielo\n"
     ]
    }
   ],
   "source": [
    "asteroide = 19\n",
    "if asteroide>20:\n",
    "    print('Advertencia, se puede ver un destello de luz en el cielo')\n",
    "elif asteroide==20:\n",
    "    print('Advertencia, se puede ver un destello de luz en el cielo')\n",
    "else:\n",
    "    print('No hay nada que mirar en el cielo')"
   ]
  },
  {
   "cell_type": "code",
   "execution_count": 5,
   "metadata": {},
   "outputs": [
    {
     "name": "stdout",
     "output_type": "stream",
     "text": [
      "Se puede ver un destello de luz en el cielo\n"
     ]
    }
   ],
   "source": [
    "velasteroide = 25\n",
    "tamasteroide = 40\n",
    "if velasteroide > 25 and tamasteroide > 25:\n",
    "    print('Un asteroide podria impactar la tierra')\n",
    "elif velasteroide >= 20:\n",
    "    print('Se puede ver un destello de luz en el cielo')\n",
    "elif tamasteroide < 25:\n",
    "    print('No hay nada que mirar en el cielo')\n",
    "else:\n",
    "    print('No hay nada que mirar en el cielo')"
   ]
  }
 ],
 "metadata": {
  "interpreter": {
   "hash": "efe611f119dc9bab66e69fba027dd4cc0da3a166f72a6ee64530cf788a5a2e7f"
  },
  "kernelspec": {
   "display_name": "Python 3.10.2 64-bit",
   "language": "python",
   "name": "python3"
  },
  "language_info": {
   "codemirror_mode": {
    "name": "ipython",
    "version": 3
   },
   "file_extension": ".py",
   "mimetype": "text/x-python",
   "name": "python",
   "nbconvert_exporter": "python",
   "pygments_lexer": "ipython3",
   "version": "3.10.2"
  },
  "orig_nbformat": 4
 },
 "nbformat": 4,
 "nbformat_minor": 2
}
