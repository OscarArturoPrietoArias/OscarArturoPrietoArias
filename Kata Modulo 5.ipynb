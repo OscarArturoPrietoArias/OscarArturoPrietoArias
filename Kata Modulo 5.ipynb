{
 "cells": [
  {
   "cell_type": "markdown",
   "metadata": {},
   "source": [
    "## Katas Modulo 5"
   ]
  },
  {
   "cell_type": "markdown",
   "metadata": {},
   "source": [
    "## Ejercicio 1"
   ]
  },
  {
   "cell_type": "code",
   "execution_count": 5,
   "metadata": {},
   "outputs": [
    {
     "name": "stdout",
     "output_type": "stream",
     "text": [
      "628949330\n",
      "390577533.93 millas\n"
     ]
    }
   ],
   "source": [
    "Dtierra= 149597870 \n",
    "DJupiter=778547200\n",
    "\n",
    "Distancia = (DJupiter - Dtierra)\n",
    "DistanciaMillas=Distancia * 0.621\n",
    "print(Distancia)\n",
    "print(DistanciaMillas, 'millas')"
   ]
  },
  {
   "cell_type": "markdown",
   "metadata": {},
   "source": [
    "## Ejercicio 2"
   ]
  },
  {
   "cell_type": "code",
   "execution_count": 7,
   "metadata": {},
   "outputs": [
    {
     "name": "stdout",
     "output_type": "stream",
     "text": [
      "0.621 Millas\n"
     ]
    }
   ],
   "source": [
    "Dplaneta1 = input('Introduce la distancia del primer planeta')\n",
    "Dplaneta2 = input('Introduce la distancia del segundo planeta')\n",
    "\n",
    "Dplaneta1 = int(Dplaneta1)\n",
    "Dplaneta2 = int(Dplaneta2)\n",
    "\n",
    "Dplanetas = Dplaneta1 - Dplaneta2\n",
    "\n",
    "Dplanetas = abs(Dplanetas)\n",
    "Dplanetas = Dplanetas * 0.621\n",
    "print(Dplanetas, 'Millas')\n"
   ]
  }
 ],
 "metadata": {
  "interpreter": {
   "hash": "efe611f119dc9bab66e69fba027dd4cc0da3a166f72a6ee64530cf788a5a2e7f"
  },
  "kernelspec": {
   "display_name": "Python 3.10.2 64-bit",
   "language": "python",
   "name": "python3"
  },
  "language_info": {
   "codemirror_mode": {
    "name": "ipython",
    "version": 3
   },
   "file_extension": ".py",
   "mimetype": "text/x-python",
   "name": "python",
   "nbconvert_exporter": "python",
   "pygments_lexer": "ipython3",
   "version": "3.10.2"
  },
  "orig_nbformat": 4
 },
 "nbformat": 4,
 "nbformat_minor": 2
}
